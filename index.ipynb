{
 "cells": [
  {
   "cell_type": "markdown",
   "metadata": {},
   "source": [
    "# Welcome to the GCP 2018 Python Lessons\n",
    "\n",
    "This set of tutorials will help you get started learning the Python programming language.\n",
    "\n",
    "Contents:\n",
    " * [Part_1_Getting_Started.ipynb](Getting Started)\n",
    " * [Part_2_Starting_to_play_with_data.ipynb](Playing with data)\n",
    " * [Part_3_Loops.ipynb](Loops)"
   ]
  },
  {
   "cell_type": "code",
   "execution_count": null,
   "metadata": {
    "collapsed": true
   },
   "outputs": [],
   "source": []
  }
 ],
 "metadata": {
  "kernelspec": {
   "display_name": "Python 3",
   "language": "python",
   "name": "python3"
  },
  "language_info": {
   "codemirror_mode": {
    "name": "ipython",
    "version": 3
   },
   "file_extension": ".py",
   "mimetype": "text/x-python",
   "name": "python",
   "nbconvert_exporter": "python",
   "pygments_lexer": "ipython3",
   "version": "3.6.3"
  }
 },
 "nbformat": 4,
 "nbformat_minor": 2
}
